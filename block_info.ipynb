{
 "cells": [
  {
   "cell_type": "code",
   "execution_count": 1,
   "metadata": {},
   "outputs": [],
   "source": [
    "# https://www.blockchainexpert.uk/blog/python-packages-for-blockchain\n",
    "from blockchain import blockexplorer"
   ]
  },
  {
   "cell_type": "code",
   "execution_count": 11,
   "metadata": {},
   "outputs": [
    {
     "name": "stdout",
     "output_type": "stream",
     "text": [
      "585102\n"
     ]
    }
   ],
   "source": [
    "# 讀取區塊高度\n",
    "latest = blockexplorer.get_latest_block()\n",
    "print(latest.height)"
   ]
  },
  {
   "cell_type": "code",
   "execution_count": 10,
   "metadata": {},
   "outputs": [
    {
     "data": {
      "text/plain": [
       "585102"
      ]
     },
     "execution_count": 10,
     "metadata": {},
     "output_type": "execute_result"
    }
   ],
   "source": [
    "latest.height"
   ]
  },
  {
   "cell_type": "code",
   "execution_count": 12,
   "metadata": {},
   "outputs": [],
   "source": [
    "blocks=blockexplorer.get_blocks(0)"
   ]
  },
  {
   "cell_type": "code",
   "execution_count": 15,
   "metadata": {},
   "outputs": [
    {
     "data": {
      "text/plain": [
       "[<blockchain.blockexplorer.SimpleBlock at 0x16b8d26af98>,\n",
       " <blockchain.blockexplorer.SimpleBlock at 0x16b8d26aeb8>,\n",
       " <blockchain.blockexplorer.SimpleBlock at 0x16b8d0f8e48>,\n",
       " <blockchain.blockexplorer.SimpleBlock at 0x16b8d0f8860>,\n",
       " <blockchain.blockexplorer.SimpleBlock at 0x16b8d0f8e80>,\n",
       " <blockchain.blockexplorer.SimpleBlock at 0x16b8d0f87b8>,\n",
       " <blockchain.blockexplorer.SimpleBlock at 0x16b8d0f8940>,\n",
       " <blockchain.blockexplorer.SimpleBlock at 0x16b8d0f8b00>,\n",
       " <blockchain.blockexplorer.SimpleBlock at 0x16b8d0f8b38>,\n",
       " <blockchain.blockexplorer.SimpleBlock at 0x16b8d0f8a20>,\n",
       " <blockchain.blockexplorer.SimpleBlock at 0x16b8d0f8898>,\n",
       " <blockchain.blockexplorer.SimpleBlock at 0x16b8d0f8ef0>,\n",
       " <blockchain.blockexplorer.SimpleBlock at 0x16b8d0f89b0>,\n",
       " <blockchain.blockexplorer.SimpleBlock at 0x16b8d2931d0>,\n",
       " <blockchain.blockexplorer.SimpleBlock at 0x16b8d293320>,\n",
       " <blockchain.blockexplorer.SimpleBlock at 0x16b8d2932b0>,\n",
       " <blockchain.blockexplorer.SimpleBlock at 0x16b8d2933c8>,\n",
       " <blockchain.blockexplorer.SimpleBlock at 0x16b8d293358>,\n",
       " <blockchain.blockexplorer.SimpleBlock at 0x16b8d293048>,\n",
       " <blockchain.blockexplorer.SimpleBlock at 0x16b8d293390>,\n",
       " <blockchain.blockexplorer.SimpleBlock at 0x16b8d2936a0>,\n",
       " <blockchain.blockexplorer.SimpleBlock at 0x16b8d293780>,\n",
       " <blockchain.blockexplorer.SimpleBlock at 0x16b8d293898>,\n",
       " <blockchain.blockexplorer.SimpleBlock at 0x16b8d2936d8>,\n",
       " <blockchain.blockexplorer.SimpleBlock at 0x16b8d293710>,\n",
       " <blockchain.blockexplorer.SimpleBlock at 0x16b8d2938d0>,\n",
       " <blockchain.blockexplorer.SimpleBlock at 0x16b8d293278>,\n",
       " <blockchain.blockexplorer.SimpleBlock at 0x16b8d293860>,\n",
       " <blockchain.blockexplorer.SimpleBlock at 0x16b8d293748>,\n",
       " <blockchain.blockexplorer.SimpleBlock at 0x16b8d293128>,\n",
       " <blockchain.blockexplorer.SimpleBlock at 0x16b8d293160>,\n",
       " <blockchain.blockexplorer.SimpleBlock at 0x16b8d293198>,\n",
       " <blockchain.blockexplorer.SimpleBlock at 0x16b8d293208>,\n",
       " <blockchain.blockexplorer.SimpleBlock at 0x16b8d293240>,\n",
       " <blockchain.blockexplorer.SimpleBlock at 0x16b8d2930b8>,\n",
       " <blockchain.blockexplorer.SimpleBlock at 0x16b8d293828>,\n",
       " <blockchain.blockexplorer.SimpleBlock at 0x16b8d2932e8>,\n",
       " <blockchain.blockexplorer.SimpleBlock at 0x16b8d293400>,\n",
       " <blockchain.blockexplorer.SimpleBlock at 0x16b8d293438>,\n",
       " <blockchain.blockexplorer.SimpleBlock at 0x16b8d293470>,\n",
       " <blockchain.blockexplorer.SimpleBlock at 0x16b8d2934a8>,\n",
       " <blockchain.blockexplorer.SimpleBlock at 0x16b8d2934e0>,\n",
       " <blockchain.blockexplorer.SimpleBlock at 0x16b8d293518>,\n",
       " <blockchain.blockexplorer.SimpleBlock at 0x16b8d293550>,\n",
       " <blockchain.blockexplorer.SimpleBlock at 0x16b8d293588>,\n",
       " <blockchain.blockexplorer.SimpleBlock at 0x16b8d2935c0>,\n",
       " <blockchain.blockexplorer.SimpleBlock at 0x16b8d2935f8>,\n",
       " <blockchain.blockexplorer.SimpleBlock at 0x16b8d293630>,\n",
       " <blockchain.blockexplorer.SimpleBlock at 0x16b8d293668>,\n",
       " <blockchain.blockexplorer.SimpleBlock at 0x16b8d2937f0>,\n",
       " <blockchain.blockexplorer.SimpleBlock at 0x16b8d2937b8>,\n",
       " <blockchain.blockexplorer.SimpleBlock at 0x16b8d293a20>,\n",
       " <blockchain.blockexplorer.SimpleBlock at 0x16b8d2939e8>,\n",
       " <blockchain.blockexplorer.SimpleBlock at 0x16b8d2939b0>,\n",
       " <blockchain.blockexplorer.SimpleBlock at 0x16b8d293a58>,\n",
       " <blockchain.blockexplorer.SimpleBlock at 0x16b8d293a90>,\n",
       " <blockchain.blockexplorer.SimpleBlock at 0x16b8d293ac8>,\n",
       " <blockchain.blockexplorer.SimpleBlock at 0x16b8d293b00>,\n",
       " <blockchain.blockexplorer.SimpleBlock at 0x16b8d293b38>,\n",
       " <blockchain.blockexplorer.SimpleBlock at 0x16b8d293b70>,\n",
       " <blockchain.blockexplorer.SimpleBlock at 0x16b8d293ba8>,\n",
       " <blockchain.blockexplorer.SimpleBlock at 0x16b8d293be0>,\n",
       " <blockchain.blockexplorer.SimpleBlock at 0x16b8d293c18>,\n",
       " <blockchain.blockexplorer.SimpleBlock at 0x16b8d293c50>,\n",
       " <blockchain.blockexplorer.SimpleBlock at 0x16b8d293c88>,\n",
       " <blockchain.blockexplorer.SimpleBlock at 0x16b8d293cc0>,\n",
       " <blockchain.blockexplorer.SimpleBlock at 0x16b8d293cf8>,\n",
       " <blockchain.blockexplorer.SimpleBlock at 0x16b8d293d30>,\n",
       " <blockchain.blockexplorer.SimpleBlock at 0x16b8d293d68>,\n",
       " <blockchain.blockexplorer.SimpleBlock at 0x16b8d293da0>,\n",
       " <blockchain.blockexplorer.SimpleBlock at 0x16b8d293dd8>,\n",
       " <blockchain.blockexplorer.SimpleBlock at 0x16b8d293e10>,\n",
       " <blockchain.blockexplorer.SimpleBlock at 0x16b8d293e48>,\n",
       " <blockchain.blockexplorer.SimpleBlock at 0x16b8d293e80>,\n",
       " <blockchain.blockexplorer.SimpleBlock at 0x16b8d293eb8>,\n",
       " <blockchain.blockexplorer.SimpleBlock at 0x16b8d293ef0>,\n",
       " <blockchain.blockexplorer.SimpleBlock at 0x16b8d293f28>,\n",
       " <blockchain.blockexplorer.SimpleBlock at 0x16b8d293f60>,\n",
       " <blockchain.blockexplorer.SimpleBlock at 0x16b8d293f98>,\n",
       " <blockchain.blockexplorer.SimpleBlock at 0x16b8d293fd0>,\n",
       " <blockchain.blockexplorer.SimpleBlock at 0x16b8d25b048>,\n",
       " <blockchain.blockexplorer.SimpleBlock at 0x16b8d25b080>,\n",
       " <blockchain.blockexplorer.SimpleBlock at 0x16b8d25b0b8>,\n",
       " <blockchain.blockexplorer.SimpleBlock at 0x16b8d25b0f0>,\n",
       " <blockchain.blockexplorer.SimpleBlock at 0x16b8d25b128>,\n",
       " <blockchain.blockexplorer.SimpleBlock at 0x16b8d25b160>,\n",
       " <blockchain.blockexplorer.SimpleBlock at 0x16b8d25b198>,\n",
       " <blockchain.blockexplorer.SimpleBlock at 0x16b8d25b1d0>,\n",
       " <blockchain.blockexplorer.SimpleBlock at 0x16b8d25b208>,\n",
       " <blockchain.blockexplorer.SimpleBlock at 0x16b8d25b240>,\n",
       " <blockchain.blockexplorer.SimpleBlock at 0x16b8d25b278>,\n",
       " <blockchain.blockexplorer.SimpleBlock at 0x16b8d25b2b0>,\n",
       " <blockchain.blockexplorer.SimpleBlock at 0x16b8d25b2e8>,\n",
       " <blockchain.blockexplorer.SimpleBlock at 0x16b8d25b320>,\n",
       " <blockchain.blockexplorer.SimpleBlock at 0x16b8d25b358>,\n",
       " <blockchain.blockexplorer.SimpleBlock at 0x16b8d25b390>,\n",
       " <blockchain.blockexplorer.SimpleBlock at 0x16b8d25b3c8>,\n",
       " <blockchain.blockexplorer.SimpleBlock at 0x16b8d25b400>,\n",
       " <blockchain.blockexplorer.SimpleBlock at 0x16b8d25b438>,\n",
       " <blockchain.blockexplorer.SimpleBlock at 0x16b8d25b470>,\n",
       " <blockchain.blockexplorer.SimpleBlock at 0x16b8d25b4a8>,\n",
       " <blockchain.blockexplorer.SimpleBlock at 0x16b8d25b4e0>,\n",
       " <blockchain.blockexplorer.SimpleBlock at 0x16b8d25b518>,\n",
       " <blockchain.blockexplorer.SimpleBlock at 0x16b8d25b550>,\n",
       " <blockchain.blockexplorer.SimpleBlock at 0x16b8d25b588>,\n",
       " <blockchain.blockexplorer.SimpleBlock at 0x16b8d25b5c0>,\n",
       " <blockchain.blockexplorer.SimpleBlock at 0x16b8d25b5f8>,\n",
       " <blockchain.blockexplorer.SimpleBlock at 0x16b8d25b630>,\n",
       " <blockchain.blockexplorer.SimpleBlock at 0x16b8d25b668>,\n",
       " <blockchain.blockexplorer.SimpleBlock at 0x16b8d25b6a0>,\n",
       " <blockchain.blockexplorer.SimpleBlock at 0x16b8d25b6d8>,\n",
       " <blockchain.blockexplorer.SimpleBlock at 0x16b8d25b710>,\n",
       " <blockchain.blockexplorer.SimpleBlock at 0x16b8d25b748>,\n",
       " <blockchain.blockexplorer.SimpleBlock at 0x16b8d25b780>,\n",
       " <blockchain.blockexplorer.SimpleBlock at 0x16b8d25b7b8>,\n",
       " <blockchain.blockexplorer.SimpleBlock at 0x16b8d25b7f0>]"
      ]
     },
     "execution_count": 15,
     "metadata": {},
     "output_type": "execute_result"
    }
   ],
   "source": [
    "blocks"
   ]
  },
  {
   "cell_type": "code",
   "execution_count": null,
   "metadata": {},
   "outputs": [],
   "source": []
  }
 ],
 "metadata": {
  "kernelspec": {
   "display_name": "Python 3",
   "language": "python",
   "name": "python3"
  },
  "language_info": {
   "codemirror_mode": {
    "name": "ipython",
    "version": 3
   },
   "file_extension": ".py",
   "mimetype": "text/x-python",
   "name": "python",
   "nbconvert_exporter": "python",
   "pygments_lexer": "ipython3",
   "version": "3.6.8"
  }
 },
 "nbformat": 4,
 "nbformat_minor": 2
}
