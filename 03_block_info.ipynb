{
 "cells": [
  {
   "cell_type": "markdown",
   "metadata": {},
   "source": [
    "# 瀏覽區塊鏈\n",
    "## 需安裝blockchain套件\n",
    "網址：https://www.blockchainexpert.uk/blog/python-packages-for-blockchain"
   ]
  },
  {
   "cell_type": "code",
   "execution_count": 1,
   "metadata": {},
   "outputs": [],
   "source": [
    "from blockchain import blockexplorer"
   ]
  },
  {
   "cell_type": "code",
   "execution_count": 2,
   "metadata": {},
   "outputs": [],
   "source": [
    "# 讀取區塊高度\n",
    "latest = blockexplorer.get_latest_block()"
   ]
  },
  {
   "cell_type": "code",
   "execution_count": 3,
   "metadata": {},
   "outputs": [
    {
     "name": "stdout",
     "output_type": "stream",
     "text": [
      "Block High: 585377\n"
     ]
    }
   ],
   "source": [
    "print(\"Block High:\", latest.height)"
   ]
  },
  {
   "cell_type": "code",
   "execution_count": 4,
   "metadata": {},
   "outputs": [],
   "source": [
    "# 抓取第0個區塊\n",
    "blocks=blockexplorer.get_blocks(0)"
   ]
  },
  {
   "cell_type": "code",
   "execution_count": 5,
   "metadata": {},
   "outputs": [
    {
     "data": {
      "text/plain": [
       "[<blockchain.blockexplorer.SimpleBlock at 0x1b39fdac710>,\n",
       " <blockchain.blockexplorer.SimpleBlock at 0x1b39fdb4da0>,\n",
       " <blockchain.blockexplorer.SimpleBlock at 0x1b39fdb4eb8>,\n",
       " <blockchain.blockexplorer.SimpleBlock at 0x1b39fdb4a58>,\n",
       " <blockchain.blockexplorer.SimpleBlock at 0x1b39fdb4940>,\n",
       " <blockchain.blockexplorer.SimpleBlock at 0x1b39fdb4ac8>,\n",
       " <blockchain.blockexplorer.SimpleBlock at 0x1b39fdb4ba8>,\n",
       " <blockchain.blockexplorer.SimpleBlock at 0x1b39fdb4c18>,\n",
       " <blockchain.blockexplorer.SimpleBlock at 0x1b39fdb4c88>,\n",
       " <blockchain.blockexplorer.SimpleBlock at 0x1b39fdb4c50>,\n",
       " <blockchain.blockexplorer.SimpleBlock at 0x1b39fdb4f28>,\n",
       " <blockchain.blockexplorer.SimpleBlock at 0x1b39fdb4a90>,\n",
       " <blockchain.blockexplorer.SimpleBlock at 0x1b39fdb4b38>,\n",
       " <blockchain.blockexplorer.SimpleBlock at 0x1b39fdb4e80>,\n",
       " <blockchain.blockexplorer.SimpleBlock at 0x1b39fdb4dd8>,\n",
       " <blockchain.blockexplorer.SimpleBlock at 0x1b39fdb4ef0>,\n",
       " <blockchain.blockexplorer.SimpleBlock at 0x1b39fdb4f60>,\n",
       " <blockchain.blockexplorer.SimpleBlock at 0x1b39fdb4f98>,\n",
       " <blockchain.blockexplorer.SimpleBlock at 0x1b39fdb4fd0>,\n",
       " <blockchain.blockexplorer.SimpleBlock at 0x1b39fdb4cf8>,\n",
       " <blockchain.blockexplorer.SimpleBlock at 0x1b39fdb4e48>,\n",
       " <blockchain.blockexplorer.SimpleBlock at 0x1b39fdb4e10>,\n",
       " <blockchain.blockexplorer.SimpleBlock at 0x1b39fdb4d30>,\n",
       " <blockchain.blockexplorer.SimpleBlock at 0x1b39fdb4cc0>,\n",
       " <blockchain.blockexplorer.SimpleBlock at 0x1b39fdb4d68>,\n",
       " <blockchain.blockexplorer.SimpleBlock at 0x1b39fdb49b0>,\n",
       " <blockchain.blockexplorer.SimpleBlock at 0x1b39fdb4978>,\n",
       " <blockchain.blockexplorer.SimpleBlock at 0x1b39fdb49e8>,\n",
       " <blockchain.blockexplorer.SimpleBlock at 0x1b39fdb4a20>,\n",
       " <blockchain.blockexplorer.SimpleBlock at 0x1b39fde5048>,\n",
       " <blockchain.blockexplorer.SimpleBlock at 0x1b39fde5080>,\n",
       " <blockchain.blockexplorer.SimpleBlock at 0x1b39fde50b8>,\n",
       " <blockchain.blockexplorer.SimpleBlock at 0x1b39fde50f0>,\n",
       " <blockchain.blockexplorer.SimpleBlock at 0x1b39fde5128>,\n",
       " <blockchain.blockexplorer.SimpleBlock at 0x1b39fde5160>,\n",
       " <blockchain.blockexplorer.SimpleBlock at 0x1b39fde5198>,\n",
       " <blockchain.blockexplorer.SimpleBlock at 0x1b39fde51d0>,\n",
       " <blockchain.blockexplorer.SimpleBlock at 0x1b39fde5208>,\n",
       " <blockchain.blockexplorer.SimpleBlock at 0x1b39fde5240>,\n",
       " <blockchain.blockexplorer.SimpleBlock at 0x1b39fde5278>,\n",
       " <blockchain.blockexplorer.SimpleBlock at 0x1b39fde52b0>,\n",
       " <blockchain.blockexplorer.SimpleBlock at 0x1b39fde52e8>,\n",
       " <blockchain.blockexplorer.SimpleBlock at 0x1b39fde5320>,\n",
       " <blockchain.blockexplorer.SimpleBlock at 0x1b39fde5358>,\n",
       " <blockchain.blockexplorer.SimpleBlock at 0x1b39fde5390>,\n",
       " <blockchain.blockexplorer.SimpleBlock at 0x1b39fde53c8>,\n",
       " <blockchain.blockexplorer.SimpleBlock at 0x1b39fde5400>,\n",
       " <blockchain.blockexplorer.SimpleBlock at 0x1b39fde5438>,\n",
       " <blockchain.blockexplorer.SimpleBlock at 0x1b39fde5470>,\n",
       " <blockchain.blockexplorer.SimpleBlock at 0x1b39fde54a8>,\n",
       " <blockchain.blockexplorer.SimpleBlock at 0x1b39fde54e0>,\n",
       " <blockchain.blockexplorer.SimpleBlock at 0x1b39fde5518>,\n",
       " <blockchain.blockexplorer.SimpleBlock at 0x1b39fde5550>,\n",
       " <blockchain.blockexplorer.SimpleBlock at 0x1b39fde5588>,\n",
       " <blockchain.blockexplorer.SimpleBlock at 0x1b39fde55c0>,\n",
       " <blockchain.blockexplorer.SimpleBlock at 0x1b39fde55f8>,\n",
       " <blockchain.blockexplorer.SimpleBlock at 0x1b39fde5630>,\n",
       " <blockchain.blockexplorer.SimpleBlock at 0x1b39fde5668>,\n",
       " <blockchain.blockexplorer.SimpleBlock at 0x1b39fde56a0>,\n",
       " <blockchain.blockexplorer.SimpleBlock at 0x1b39fde56d8>,\n",
       " <blockchain.blockexplorer.SimpleBlock at 0x1b39fde5710>,\n",
       " <blockchain.blockexplorer.SimpleBlock at 0x1b39fde5748>,\n",
       " <blockchain.blockexplorer.SimpleBlock at 0x1b39fde5780>,\n",
       " <blockchain.blockexplorer.SimpleBlock at 0x1b39fde57b8>,\n",
       " <blockchain.blockexplorer.SimpleBlock at 0x1b39fde57f0>,\n",
       " <blockchain.blockexplorer.SimpleBlock at 0x1b39fde5828>,\n",
       " <blockchain.blockexplorer.SimpleBlock at 0x1b39fde5860>,\n",
       " <blockchain.blockexplorer.SimpleBlock at 0x1b39fde5898>,\n",
       " <blockchain.blockexplorer.SimpleBlock at 0x1b39fde58d0>,\n",
       " <blockchain.blockexplorer.SimpleBlock at 0x1b39fde5908>,\n",
       " <blockchain.blockexplorer.SimpleBlock at 0x1b39fde5940>,\n",
       " <blockchain.blockexplorer.SimpleBlock at 0x1b39fde5978>,\n",
       " <blockchain.blockexplorer.SimpleBlock at 0x1b39fde59b0>,\n",
       " <blockchain.blockexplorer.SimpleBlock at 0x1b39fde59e8>,\n",
       " <blockchain.blockexplorer.SimpleBlock at 0x1b39fde5a20>,\n",
       " <blockchain.blockexplorer.SimpleBlock at 0x1b39fde5a58>,\n",
       " <blockchain.blockexplorer.SimpleBlock at 0x1b39fde5a90>,\n",
       " <blockchain.blockexplorer.SimpleBlock at 0x1b39fde5ac8>,\n",
       " <blockchain.blockexplorer.SimpleBlock at 0x1b39fde5b00>,\n",
       " <blockchain.blockexplorer.SimpleBlock at 0x1b39fde5b38>,\n",
       " <blockchain.blockexplorer.SimpleBlock at 0x1b39fde5b70>,\n",
       " <blockchain.blockexplorer.SimpleBlock at 0x1b39fde5ba8>,\n",
       " <blockchain.blockexplorer.SimpleBlock at 0x1b39fde5be0>,\n",
       " <blockchain.blockexplorer.SimpleBlock at 0x1b39fde5c18>,\n",
       " <blockchain.blockexplorer.SimpleBlock at 0x1b39fde5c50>,\n",
       " <blockchain.blockexplorer.SimpleBlock at 0x1b39fde5c88>]"
      ]
     },
     "execution_count": 5,
     "metadata": {},
     "output_type": "execute_result"
    }
   ],
   "source": [
    "blocks"
   ]
  },
  {
   "cell_type": "code",
   "execution_count": null,
   "metadata": {},
   "outputs": [],
   "source": []
  }
 ],
 "metadata": {
  "kernelspec": {
   "display_name": "Python 3",
   "language": "python",
   "name": "python3"
  },
  "language_info": {
   "codemirror_mode": {
    "name": "ipython",
    "version": 3
   },
   "file_extension": ".py",
   "mimetype": "text/x-python",
   "name": "python",
   "nbconvert_exporter": "python",
   "pygments_lexer": "ipython3",
   "version": "3.6.5"
  }
 },
 "nbformat": 4,
 "nbformat_minor": 2
}
