{
 "cells": [
  {
   "cell_type": "markdown",
   "metadata": {},
   "source": [
    "# 瀏覽區塊鏈\n",
    "## 需安裝blockchain套件\n",
    "網址：https://www.blockchainexpert.uk/blog/python-packages-for-blockchain"
   ]
  },
  {
   "cell_type": "code",
   "execution_count": 1,
   "metadata": {},
   "outputs": [],
   "source": [
    "from blockchain import blockexplorer"
   ]
  },
  {
   "cell_type": "code",
   "execution_count": 4,
   "metadata": {},
   "outputs": [],
   "source": [
    "# 讀取區塊高度\n",
    "latest = blockexplorer.get_latest_block()"
   ]
  },
  {
   "cell_type": "code",
   "execution_count": 6,
   "metadata": {},
   "outputs": [
    {
     "name": "stdout",
     "output_type": "stream",
     "text": [
      "Block High: 585329\n"
     ]
    }
   ],
   "source": [
    "print(\"Block High:\", latest.height)"
   ]
  },
  {
   "cell_type": "code",
   "execution_count": 7,
   "metadata": {},
   "outputs": [],
   "source": [
    "# 抓取第0個區塊\n",
    "blocks=blockexplorer.get_blocks(0)"
   ]
  },
  {
   "cell_type": "code",
   "execution_count": 9,
   "metadata": {},
   "outputs": [
    {
     "data": {
      "text/plain": [
       "[<blockchain.blockexplorer.SimpleBlock at 0x174953c0668>,\n",
       " <blockchain.blockexplorer.SimpleBlock at 0x174953c07b8>,\n",
       " <blockchain.blockexplorer.SimpleBlock at 0x174953c07f0>,\n",
       " <blockchain.blockexplorer.SimpleBlock at 0x174953c0748>,\n",
       " <blockchain.blockexplorer.SimpleBlock at 0x174953c0dd8>,\n",
       " <blockchain.blockexplorer.SimpleBlock at 0x174953c0ef0>,\n",
       " <blockchain.blockexplorer.SimpleBlock at 0x174953c0f60>,\n",
       " <blockchain.blockexplorer.SimpleBlock at 0x174953c0f98>,\n",
       " <blockchain.blockexplorer.SimpleBlock at 0x174953c0fd0>,\n",
       " <blockchain.blockexplorer.SimpleBlock at 0x174953c0a58>,\n",
       " <blockchain.blockexplorer.SimpleBlock at 0x174953c0550>,\n",
       " <blockchain.blockexplorer.SimpleBlock at 0x174953c0a20>,\n",
       " <blockchain.blockexplorer.SimpleBlock at 0x174953c0e10>,\n",
       " <blockchain.blockexplorer.SimpleBlock at 0x174953c0c50>,\n",
       " <blockchain.blockexplorer.SimpleBlock at 0x174953c0828>,\n",
       " <blockchain.blockexplorer.SimpleBlock at 0x174953c0d68>,\n",
       " <blockchain.blockexplorer.SimpleBlock at 0x174953c0cc0>,\n",
       " <blockchain.blockexplorer.SimpleBlock at 0x174953c0ac8>,\n",
       " <blockchain.blockexplorer.SimpleBlock at 0x174953c0da0>,\n",
       " <blockchain.blockexplorer.SimpleBlock at 0x174953c0940>,\n",
       " <blockchain.blockexplorer.SimpleBlock at 0x174953c0908>,\n",
       " <blockchain.blockexplorer.SimpleBlock at 0x174953c0b00>,\n",
       " <blockchain.blockexplorer.SimpleBlock at 0x174953c09e8>,\n",
       " <blockchain.blockexplorer.SimpleBlock at 0x174953c0518>,\n",
       " <blockchain.blockexplorer.SimpleBlock at 0x174953c0b70>,\n",
       " <blockchain.blockexplorer.SimpleBlock at 0x174953c08d0>,\n",
       " <blockchain.blockexplorer.SimpleBlock at 0x174953c0eb8>,\n",
       " <blockchain.blockexplorer.SimpleBlock at 0x174953c0e80>,\n",
       " <blockchain.blockexplorer.SimpleBlock at 0x174953c0e48>,\n",
       " <blockchain.blockexplorer.SimpleBlock at 0x174953c05c0>,\n",
       " <blockchain.blockexplorer.SimpleBlock at 0x174953c0588>,\n",
       " <blockchain.blockexplorer.SimpleBlock at 0x174953c05f8>,\n",
       " <blockchain.blockexplorer.SimpleBlock at 0x174953c0ba8>,\n",
       " <blockchain.blockexplorer.SimpleBlock at 0x174953c0f28>,\n",
       " <blockchain.blockexplorer.SimpleBlock at 0x174953cb048>,\n",
       " <blockchain.blockexplorer.SimpleBlock at 0x174953cb080>,\n",
       " <blockchain.blockexplorer.SimpleBlock at 0x174953cb0b8>,\n",
       " <blockchain.blockexplorer.SimpleBlock at 0x174953cb0f0>]"
      ]
     },
     "execution_count": 9,
     "metadata": {},
     "output_type": "execute_result"
    }
   ],
   "source": [
    "blocks"
   ]
  },
  {
   "cell_type": "code",
   "execution_count": null,
   "metadata": {},
   "outputs": [],
   "source": []
  }
 ],
 "metadata": {
  "kernelspec": {
   "display_name": "Python 3",
   "language": "python",
   "name": "python3"
  },
  "language_info": {
   "codemirror_mode": {
    "name": "ipython",
    "version": 3
   },
   "file_extension": ".py",
   "mimetype": "text/x-python",
   "name": "python",
   "nbconvert_exporter": "python",
   "pygments_lexer": "ipython3",
   "version": "3.6.8"
  }
 },
 "nbformat": 4,
 "nbformat_minor": 2
}
