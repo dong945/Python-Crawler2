{
 "cells": [
  {
   "cell_type": "markdown",
   "metadata": {},
   "source": [
    "# 總市值前100名的虛擬貨幣"
   ]
  },
  {
   "cell_type": "code",
   "execution_count": 1,
   "metadata": {},
   "outputs": [],
   "source": [
    "import requests\n",
    "from bs4 import BeautifulSoup\n",
    "import pandas as pd"
   ]
  },
  {
   "cell_type": "code",
   "execution_count": 2,
   "metadata": {},
   "outputs": [
    {
     "name": "stdout",
     "output_type": "stream",
     "text": [
      "200\n"
     ]
    }
   ],
   "source": [
    "# 將爬蟲偽裝成Browser\n",
    "url = \"https://www.coingecko.com/zh-tw\"\n",
    "url_headers = {\"user-agent\": \"Mozilla/5.0 (Windows NT 10.0; Win64; x64) AppleWebKit/537.36 (KHTML, like Gecko) Chrome/72.0.3626.119 Safari/537.36\"}\n",
    "r = requests.get(url, headers = url_headers)\n",
    "print(r.status_code)  # status code為200，表示網頁回應正確"
   ]
  },
  {
   "cell_type": "code",
   "execution_count": 3,
   "metadata": {},
   "outputs": [],
   "source": [
    "# 剖析網頁元素，將我們要抓取的資料取出\n",
    "soup = BeautifulSoup(r.text, \"lxml\")\n",
    "table = soup.find(attrs={\"class\":\"sort table mb-0 text-sm text-lg-normal table-scrollable\"})"
   ]
  },
  {
   "cell_type": "code",
   "execution_count": 4,
   "metadata": {},
   "outputs": [
    {
     "name": "stdout",
     "output_type": "stream",
     "text": [
      "總筆數: 100\n"
     ]
    },
    {
     "data": {
      "text/html": [
       "<div>\n",
       "<style scoped>\n",
       "    .dataframe tbody tr th:only-of-type {\n",
       "        vertical-align: middle;\n",
       "    }\n",
       "\n",
       "    .dataframe tbody tr th {\n",
       "        vertical-align: top;\n",
       "    }\n",
       "\n",
       "    .dataframe thead th {\n",
       "        text-align: right;\n",
       "    }\n",
       "</style>\n",
       "<table border=\"1\" class=\"dataframe\">\n",
       "  <thead>\n",
       "    <tr style=\"text-align: right;\">\n",
       "      <th></th>\n",
       "      <th>#</th>\n",
       "      <th>貨幣</th>\n",
       "      <th>代號</th>\n",
       "      <th>匯率</th>\n",
       "      <th>1小時</th>\n",
       "      <th>24小時</th>\n",
       "      <th>7天</th>\n",
       "      <th>24小時交易量</th>\n",
       "      <th>總市值</th>\n",
       "    </tr>\n",
       "  </thead>\n",
       "  <tbody>\n",
       "    <tr>\n",
       "      <th>0</th>\n",
       "      <td>1</td>\n",
       "      <td>比特幣</td>\n",
       "      <td>BTC</td>\n",
       "      <td>$9,873.29</td>\n",
       "      <td>1.8%</td>\n",
       "      <td>-1.6%</td>\n",
       "      <td>3.5%</td>\n",
       "      <td>$42,036,840,078</td>\n",
       "      <td>$176,143,309,481</td>\n",
       "    </tr>\n",
       "    <tr>\n",
       "      <th>1</th>\n",
       "      <td>2</td>\n",
       "      <td>以太幣</td>\n",
       "      <td>ETH</td>\n",
       "      <td>$214.78</td>\n",
       "      <td>3.5%</td>\n",
       "      <td>1.4%</td>\n",
       "      <td>7.4%</td>\n",
       "      <td>$8,147,345,399</td>\n",
       "      <td>$22,984,001,174</td>\n",
       "    </tr>\n",
       "    <tr>\n",
       "      <th>2</th>\n",
       "      <td>3</td>\n",
       "      <td>瑞波幣</td>\n",
       "      <td>XRP</td>\n",
       "      <td>$0.312962</td>\n",
       "      <td>2.4%</td>\n",
       "      <td>0.77%</td>\n",
       "      <td>5.1%</td>\n",
       "      <td>$1,935,229,278</td>\n",
       "      <td>$13,398,606,913</td>\n",
       "    </tr>\n",
       "    <tr>\n",
       "      <th>3</th>\n",
       "      <td>4</td>\n",
       "      <td>萊特幣</td>\n",
       "      <td>LTC</td>\n",
       "      <td>$94.58</td>\n",
       "      <td>4.9%</td>\n",
       "      <td>5.2%</td>\n",
       "      <td>18%</td>\n",
       "      <td>$10,201,859,302</td>\n",
       "      <td>$5,912,110,369</td>\n",
       "    </tr>\n",
       "    <tr>\n",
       "      <th>4</th>\n",
       "      <td>5</td>\n",
       "      <td>比特現金</td>\n",
       "      <td>BCH</td>\n",
       "      <td>$304.61</td>\n",
       "      <td>4.8%</td>\n",
       "      <td>1.4%</td>\n",
       "      <td>7.4%</td>\n",
       "      <td>$7,036,632,909</td>\n",
       "      <td>$5,459,596,040</td>\n",
       "    </tr>\n",
       "    <tr>\n",
       "      <th>5</th>\n",
       "      <td>6</td>\n",
       "      <td>柚子幣</td>\n",
       "      <td>EOS</td>\n",
       "      <td>$4.52</td>\n",
       "      <td>6.2%</td>\n",
       "      <td>10%</td>\n",
       "      <td>23%</td>\n",
       "      <td>$3,684,648,963</td>\n",
       "      <td>$4,597,132,907</td>\n",
       "    </tr>\n",
       "    <tr>\n",
       "      <th>6</th>\n",
       "      <td>7</td>\n",
       "      <td>幣安幣</td>\n",
       "      <td>BNB</td>\n",
       "      <td>$29.04</td>\n",
       "      <td>2.4%</td>\n",
       "      <td>-1.1%</td>\n",
       "      <td>15%</td>\n",
       "      <td>$283,720,669</td>\n",
       "      <td>$4,516,354,814</td>\n",
       "    </tr>\n",
       "    <tr>\n",
       "      <th>7</th>\n",
       "      <td>8</td>\n",
       "      <td>泰達幣</td>\n",
       "      <td>USDT</td>\n",
       "      <td>$1.00</td>\n",
       "      <td>0.15%</td>\n",
       "      <td>0.070%</td>\n",
       "      <td>-0.26%</td>\n",
       "      <td>$38,980,429,002</td>\n",
       "      <td>$3,561,304,215</td>\n",
       "    </tr>\n",
       "    <tr>\n",
       "      <th>8</th>\n",
       "      <td>9</td>\n",
       "      <td>Bitcoin SV</td>\n",
       "      <td>BSV</td>\n",
       "      <td>$168.93</td>\n",
       "      <td>3.1%</td>\n",
       "      <td>-0.10%</td>\n",
       "      <td>50%</td>\n",
       "      <td>$713,681,888</td>\n",
       "      <td>$3,028,195,071</td>\n",
       "    </tr>\n",
       "    <tr>\n",
       "      <th>9</th>\n",
       "      <td>10</td>\n",
       "      <td>艾達幣</td>\n",
       "      <td>ADA</td>\n",
       "      <td>$0.05559035</td>\n",
       "      <td>3.5%</td>\n",
       "      <td>-1.1%</td>\n",
       "      <td>6.7%</td>\n",
       "      <td>$250,449,486</td>\n",
       "      <td>$1,726,793,715</td>\n",
       "    </tr>\n",
       "  </tbody>\n",
       "</table>\n",
       "</div>"
      ],
      "text/plain": [
       "    #          貨幣    代號           匯率    1小時    24小時      7天          24小時交易量  \\\n",
       "0   1         比特幣   BTC    $9,873.29   1.8%   -1.6%    3.5%  $42,036,840,078   \n",
       "1   2         以太幣   ETH      $214.78   3.5%    1.4%    7.4%   $8,147,345,399   \n",
       "2   3         瑞波幣   XRP    $0.312962   2.4%   0.77%    5.1%   $1,935,229,278   \n",
       "3   4         萊特幣   LTC       $94.58   4.9%    5.2%     18%  $10,201,859,302   \n",
       "4   5        比特現金   BCH      $304.61   4.8%    1.4%    7.4%   $7,036,632,909   \n",
       "5   6         柚子幣   EOS        $4.52   6.2%     10%     23%   $3,684,648,963   \n",
       "6   7         幣安幣   BNB       $29.04   2.4%   -1.1%     15%     $283,720,669   \n",
       "7   8         泰達幣  USDT        $1.00  0.15%  0.070%  -0.26%  $38,980,429,002   \n",
       "8   9  Bitcoin SV   BSV      $168.93   3.1%  -0.10%     50%     $713,681,888   \n",
       "9  10         艾達幣   ADA  $0.05559035   3.5%   -1.1%    6.7%     $250,449,486   \n",
       "\n",
       "                總市值  \n",
       "0  $176,143,309,481  \n",
       "1   $22,984,001,174  \n",
       "2   $13,398,606,913  \n",
       "3    $5,912,110,369  \n",
       "4    $5,459,596,040  \n",
       "5    $4,597,132,907  \n",
       "6    $4,516,354,814  \n",
       "7    $3,561,304,215  \n",
       "8    $3,028,195,071  \n",
       "9    $1,726,793,715  "
      ]
     },
     "execution_count": 4,
     "metadata": {},
     "output_type": "execute_result"
    }
   ],
   "source": [
    "# 將tag <tr>的資料出\n",
    "trs = table.tbody.find_all(\"tr\")\n",
    "df = []\n",
    "columnName = ['#','貨幣','代號', '匯率','1小時','24小時','7天','24小時交易量','總市值']\n",
    "# 以form迴圈將資料逐筆取出\n",
    "for tr in trs:\n",
    "    tds = tr.find_all(\"td\")\n",
    "    tmp = []\n",
    "    for idx in range(10):\n",
    "        if (idx == 2):\n",
    "            tmp.append(tds[idx].find_all(\"span\")[1].string)\n",
    "            tmp.append(tds[idx].find_all(\"span\")[2].string)  \n",
    "        elif (idx != 0 and idx != 8):\n",
    "            tmp.append(tds[idx].span.string)     \n",
    "    df.append(tmp)    \n",
    "# 將資料轉為DataFrame，秀出前10筆\n",
    "df = pd.DataFrame(df, columns = columnName)\n",
    "print(\"總筆數:\", len(df))\n",
    "df.head(10)    # 顯示前10筆"
   ]
  },
  {
   "cell_type": "code",
   "execution_count": 5,
   "metadata": {},
   "outputs": [],
   "source": [
    "df_10 = df.head(10)\n",
    "coin = df_10['代號']\n",
    "rate = df_10['匯率']\n",
    "rate = [float(r.replace(\"$\", \"\").replace(\",\",\"\")) for r in rate]"
   ]
  },
  {
   "cell_type": "code",
   "execution_count": 6,
   "metadata": {},
   "outputs": [],
   "source": [
    "import matplotlib as mpl\n",
    "import matplotlib.pyplot as plt"
   ]
  },
  {
   "cell_type": "code",
   "execution_count": 7,
   "metadata": {},
   "outputs": [],
   "source": [
    "mpl.rcParams[\"font.sans-serif\"] = [\"Microsoft JhengHei\"]\n",
    "mpl.rcParams[\"axes.unicode_minus\"] = False"
   ]
  },
  {
   "cell_type": "code",
   "execution_count": 8,
   "metadata": {},
   "outputs": [
    {
     "data": {
      "image/png": "[encoded data removed]",
      "text/plain": [
       "<Figure size 576x432 with 1 Axes>"
      ]
     },
     "metadata": {},
     "output_type": "display_data"
    }
   ],
   "source": [
    "# plot\n",
    "plt.figure(figsize=(8, 6))\n",
    "\n",
    "colors = [\"blue\", \"gold\", \"darkgreen\", \"sienna\", \"red\", \"m\", \"violet\", \"blueviolet\", \"cyan\", \"cyan\"]\n",
    "\n",
    "plt.bar(coin, rate, align=\"center\", color=colors, tick_label=coin, alpha=0.6)\n",
    "\n",
    "plt.xlabel(\"虛擬貨幣種類\")\n",
    "plt.ylabel(\"虛擬貨幣匯率(USD)\")\n",
    "\n",
    "plt.grid(True, axis=\"y\", ls=\":\", color=\"r\", alpha=0.3)\n",
    "\n",
    "plt.show()"
   ]
  },
  {
   "cell_type": "code",
   "execution_count": 23,
   "metadata": {},
   "outputs": [
    {
     "data": {
      "text/html": [
       "<div>\n",
       "<style scoped>\n",
       "    .dataframe tbody tr th:only-of-type {\n",
       "        vertical-align: middle;\n",
       "    }\n",
       "\n",
       "    .dataframe tbody tr th {\n",
       "        vertical-align: top;\n",
       "    }\n",
       "\n",
       "    .dataframe thead th {\n",
       "        text-align: right;\n",
       "    }\n",
       "</style>\n",
       "<table border=\"1\" class=\"dataframe\">\n",
       "  <thead>\n",
       "    <tr style=\"text-align: right;\">\n",
       "      <th></th>\n",
       "      <th>#</th>\n",
       "      <th>貨幣</th>\n",
       "      <th>代號</th>\n",
       "      <th>匯率</th>\n",
       "      <th>1小時</th>\n",
       "      <th>24小時</th>\n",
       "      <th>7天</th>\n",
       "      <th>24小時交易量</th>\n",
       "      <th>總市值</th>\n",
       "    </tr>\n",
       "    <tr>\n",
       "      <th>代號</th>\n",
       "      <th></th>\n",
       "      <th></th>\n",
       "      <th></th>\n",
       "      <th></th>\n",
       "      <th></th>\n",
       "      <th></th>\n",
       "      <th></th>\n",
       "      <th></th>\n",
       "      <th></th>\n",
       "    </tr>\n",
       "  </thead>\n",
       "  <tbody>\n",
       "    <tr>\n",
       "      <th>BTC</th>\n",
       "      <td>1</td>\n",
       "      <td>比特幣</td>\n",
       "      <td>BTC</td>\n",
       "      <td>$9,873.29</td>\n",
       "      <td>1.8%</td>\n",
       "      <td>-1.6%</td>\n",
       "      <td>3.5%</td>\n",
       "      <td>$42,036,840,078</td>\n",
       "      <td>$176,143,309,481</td>\n",
       "    </tr>\n",
       "    <tr>\n",
       "      <th>ETH</th>\n",
       "      <td>2</td>\n",
       "      <td>以太幣</td>\n",
       "      <td>ETH</td>\n",
       "      <td>$214.78</td>\n",
       "      <td>3.5%</td>\n",
       "      <td>1.4%</td>\n",
       "      <td>7.4%</td>\n",
       "      <td>$8,147,345,399</td>\n",
       "      <td>$22,984,001,174</td>\n",
       "    </tr>\n",
       "    <tr>\n",
       "      <th>XRP</th>\n",
       "      <td>3</td>\n",
       "      <td>瑞波幣</td>\n",
       "      <td>XRP</td>\n",
       "      <td>$0.312962</td>\n",
       "      <td>2.4%</td>\n",
       "      <td>0.77%</td>\n",
       "      <td>5.1%</td>\n",
       "      <td>$1,935,229,278</td>\n",
       "      <td>$13,398,606,913</td>\n",
       "    </tr>\n",
       "    <tr>\n",
       "      <th>LTC</th>\n",
       "      <td>4</td>\n",
       "      <td>萊特幣</td>\n",
       "      <td>LTC</td>\n",
       "      <td>$94.58</td>\n",
       "      <td>4.9%</td>\n",
       "      <td>5.2%</td>\n",
       "      <td>18%</td>\n",
       "      <td>$10,201,859,302</td>\n",
       "      <td>$5,912,110,369</td>\n",
       "    </tr>\n",
       "    <tr>\n",
       "      <th>MIOTA</th>\n",
       "      <td>20</td>\n",
       "      <td>埃歐塔</td>\n",
       "      <td>MIOTA</td>\n",
       "      <td>$0.304047</td>\n",
       "      <td>0.95%</td>\n",
       "      <td>2.9%</td>\n",
       "      <td>13%</td>\n",
       "      <td>$14,604,439</td>\n",
       "      <td>$845,619,444</td>\n",
       "    </tr>\n",
       "  </tbody>\n",
       "</table>\n",
       "</div>"
      ],
      "text/plain": [
       "        #   貨幣     代號         匯率    1小時   24小時    7天          24小時交易量  \\\n",
       "代號                                                                      \n",
       "BTC     1  比特幣    BTC  $9,873.29   1.8%  -1.6%  3.5%  $42,036,840,078   \n",
       "ETH     2  以太幣    ETH    $214.78   3.5%   1.4%  7.4%   $8,147,345,399   \n",
       "XRP     3  瑞波幣    XRP  $0.312962   2.4%  0.77%  5.1%   $1,935,229,278   \n",
       "LTC     4  萊特幣    LTC     $94.58   4.9%   5.2%   18%  $10,201,859,302   \n",
       "MIOTA  20  埃歐塔  MIOTA  $0.304047  0.95%   2.9%   13%      $14,604,439   \n",
       "\n",
       "                    總市值  \n",
       "代號                       \n",
       "BTC    $176,143,309,481  \n",
       "ETH     $22,984,001,174  \n",
       "XRP     $13,398,606,913  \n",
       "LTC      $5,912,110,369  \n",
       "MIOTA      $845,619,444  "
      ]
     },
     "execution_count": 23,
     "metadata": {},
     "output_type": "execute_result"
    }
   ],
   "source": [
    "df.index = df['代號']\n",
    "idx = ['BTC', 'ETH', 'XRP','LTC', 'MIOTA']\n",
    "df.loc[idx]"
   ]
  },
  {
   "cell_type": "code",
   "execution_count": 28,
   "metadata": {},
   "outputs": [],
   "source": [
    "coin = df.loc[idx]['代號']\n",
    "rate = df.loc[idx]['匯率']\n",
    "rate = [float(r.replace(\"$\", \"\").replace(\",\",\"\")) for r in rate]"
   ]
  },
  {
   "cell_type": "code",
   "execution_count": 29,
   "metadata": {},
   "outputs": [
    {
     "data": {
      "text/plain": [
       "[9873.29, 214.78, 0.312962, 94.58, 0.304047]"
      ]
     },
     "execution_count": 29,
     "metadata": {},
     "output_type": "execute_result"
    }
   ],
   "source": [
    "rate"
   ]
  },
  {
   "cell_type": "code",
   "execution_count": 30,
   "metadata": {},
   "outputs": [
    {
     "data": {
      "image/png": "[encoded data removed]",
      "text/plain": [
       "<Figure size 576x432 with 1 Axes>"
      ]
     },
     "metadata": {},
     "output_type": "display_data"
    }
   ],
   "source": [
    "# plot\n",
    "plt.figure(figsize=(8, 6))\n",
    "\n",
    "colors = [\"blue\", \"gold\", \"darkgreen\", \"sienna\", \"red\"]\n",
    "\n",
    "plt.bar(coin, rate, align=\"center\", color=colors, tick_label=coin, alpha=0.6)\n",
    "\n",
    "plt.xlabel(\"虛擬貨幣種類\")\n",
    "plt.ylabel(\"虛擬貨幣匯率(USD)\")\n",
    "\n",
    "plt.grid(True, axis=\"y\", ls=\":\", color=\"r\", alpha=0.3)\n",
    "\n",
    "plt.show()"
   ]
  },
  {
   "cell_type": "code",
   "execution_count": null,
   "metadata": {},
   "outputs": [],
   "source": []
  }
 ],
 "metadata": {
  "kernelspec": {
   "display_name": "Python 3",
   "language": "python",
   "name": "python3"
  },
  "language_info": {
   "codemirror_mode": {
    "name": "ipython",
    "version": 3
   },
   "file_extension": ".py",
   "mimetype": "text/x-python",
   "name": "python",
   "nbconvert_exporter": "python",
   "pygments_lexer": "ipython3",
   "version": "3.6.5"
  }
 },
 "nbformat": 4,
 "nbformat_minor": 2
}
