{
 "cells": [
  {
   "cell_type": "markdown",
   "metadata": {},
   "source": [
    "# 總市值前100名的虛擬貨幣"
   ]
  },
  {
   "cell_type": "code",
   "execution_count": 1,
   "metadata": {},
   "outputs": [],
   "source": [
    "import requests\n",
    "from bs4 import BeautifulSoup\n",
    "import pandas as pd"
   ]
  },
  {
   "cell_type": "code",
   "execution_count": 2,
   "metadata": {},
   "outputs": [
    {
     "name": "stdout",
     "output_type": "stream",
     "text": [
      "200\n"
     ]
    }
   ],
   "source": [
    "# 將爬蟲偽裝成Browser\n",
    "url = \"https://www.coingecko.com/zh-tw\"\n",
    "url_headers = {\"user-agent\": \"Mozilla/5.0 (Windows NT 10.0; Win64; x64) AppleWebKit/537.36 (KHTML, like Gecko) Chrome/72.0.3626.119 Safari/537.36\"}\n",
    "r = requests.get(url, headers = url_headers)\n",
    "print(r.status_code)  # status code為200，表示網頁回應正確"
   ]
  },
  {
   "cell_type": "code",
   "execution_count": 3,
   "metadata": {},
   "outputs": [],
   "source": [
    "# 剖析網頁元素，將我們要抓取的資料取出\n",
    "soup = BeautifulSoup(r.text, \"lxml\")\n",
    "table = soup.find(attrs={\"class\":\"sort table mb-0 text-sm text-lg-normal table-scrollable\"})"
   ]
  },
  {
   "cell_type": "code",
   "execution_count": 4,
   "metadata": {},
   "outputs": [
    {
     "name": "stdout",
     "output_type": "stream",
     "text": [
      "總筆數: 100\n"
     ]
    },
    {
     "data": {
      "text/html": [
       "<div>\n",
       "<style scoped>\n",
       "    .dataframe tbody tr th:only-of-type {\n",
       "        vertical-align: middle;\n",
       "    }\n",
       "\n",
       "    .dataframe tbody tr th {\n",
       "        vertical-align: top;\n",
       "    }\n",
       "\n",
       "    .dataframe thead th {\n",
       "        text-align: right;\n",
       "    }\n",
       "</style>\n",
       "<table border=\"1\" class=\"dataframe\">\n",
       "  <thead>\n",
       "    <tr style=\"text-align: right;\">\n",
       "      <th></th>\n",
       "      <th>#</th>\n",
       "      <th>貨幣</th>\n",
       "      <th>代號</th>\n",
       "      <th>匯率</th>\n",
       "      <th>1小時</th>\n",
       "      <th>24小時</th>\n",
       "      <th>7天</th>\n",
       "      <th>24小時交易量</th>\n",
       "      <th>總市值</th>\n",
       "    </tr>\n",
       "  </thead>\n",
       "  <tbody>\n",
       "    <tr>\n",
       "      <th>0</th>\n",
       "      <td>1</td>\n",
       "      <td>比特幣</td>\n",
       "      <td>BTC</td>\n",
       "      <td>$10,370.59</td>\n",
       "      <td>0.95%</td>\n",
       "      <td>-0.26%</td>\n",
       "      <td>0.83%</td>\n",
       "      <td>$21,302,466,441</td>\n",
       "      <td>$184,938,805,601</td>\n",
       "    </tr>\n",
       "    <tr>\n",
       "      <th>1</th>\n",
       "      <td>2</td>\n",
       "      <td>以太幣</td>\n",
       "      <td>ETH</td>\n",
       "      <td>$216.45</td>\n",
       "      <td>0.55%</td>\n",
       "      <td>-1.2%</td>\n",
       "      <td>-4.7%</td>\n",
       "      <td>$7,166,914,050</td>\n",
       "      <td>$23,158,586,614</td>\n",
       "    </tr>\n",
       "    <tr>\n",
       "      <th>2</th>\n",
       "      <td>3</td>\n",
       "      <td>瑞波幣</td>\n",
       "      <td>XRP</td>\n",
       "      <td>$0.321191</td>\n",
       "      <td>0.68%</td>\n",
       "      <td>-0.98%</td>\n",
       "      <td>4.8%</td>\n",
       "      <td>$1,387,725,382</td>\n",
       "      <td>$13,765,482,662</td>\n",
       "    </tr>\n",
       "    <tr>\n",
       "      <th>3</th>\n",
       "      <td>4</td>\n",
       "      <td>萊特幣</td>\n",
       "      <td>LTC</td>\n",
       "      <td>$94.03</td>\n",
       "      <td>0.82%</td>\n",
       "      <td>-3.4%</td>\n",
       "      <td>5.1%</td>\n",
       "      <td>$2,918,341,736</td>\n",
       "      <td>$5,900,307,153</td>\n",
       "    </tr>\n",
       "    <tr>\n",
       "      <th>4</th>\n",
       "      <td>5</td>\n",
       "      <td>比特現金</td>\n",
       "      <td>BCH</td>\n",
       "      <td>$310.45</td>\n",
       "      <td>0.82%</td>\n",
       "      <td>-0.87%</td>\n",
       "      <td>10%</td>\n",
       "      <td>$1,501,388,201</td>\n",
       "      <td>$5,561,251,822</td>\n",
       "    </tr>\n",
       "    <tr>\n",
       "      <th>5</th>\n",
       "      <td>6</td>\n",
       "      <td>幣安幣</td>\n",
       "      <td>BNB</td>\n",
       "      <td>$30.76</td>\n",
       "      <td>1.8%</td>\n",
       "      <td>3.8%</td>\n",
       "      <td>8.2%</td>\n",
       "      <td>$359,869,796</td>\n",
       "      <td>$4,274,493,476</td>\n",
       "    </tr>\n",
       "    <tr>\n",
       "      <th>6</th>\n",
       "      <td>7</td>\n",
       "      <td>柚子幣</td>\n",
       "      <td>EOS</td>\n",
       "      <td>$4.09</td>\n",
       "      <td>1.1%</td>\n",
       "      <td>-3.3%</td>\n",
       "      <td>-0.38%</td>\n",
       "      <td>$2,339,119,688</td>\n",
       "      <td>$4,159,823,355</td>\n",
       "    </tr>\n",
       "    <tr>\n",
       "      <th>7</th>\n",
       "      <td>8</td>\n",
       "      <td>泰達幣</td>\n",
       "      <td>USDT</td>\n",
       "      <td>$1.00</td>\n",
       "      <td>0.12%</td>\n",
       "      <td>0.050%</td>\n",
       "      <td>-0.14%</td>\n",
       "      <td>$37,331,266,515</td>\n",
       "      <td>$3,565,735,570</td>\n",
       "    </tr>\n",
       "    <tr>\n",
       "      <th>8</th>\n",
       "      <td>9</td>\n",
       "      <td>Bitcoin SV</td>\n",
       "      <td>BSV</td>\n",
       "      <td>$167.43</td>\n",
       "      <td>0.22%</td>\n",
       "      <td>-0.13%</td>\n",
       "      <td>30%</td>\n",
       "      <td>$642,851,937</td>\n",
       "      <td>$2,998,499,253</td>\n",
       "    </tr>\n",
       "    <tr>\n",
       "      <th>9</th>\n",
       "      <td>10</td>\n",
       "      <td>波場</td>\n",
       "      <td>TRX</td>\n",
       "      <td>$0.02861212</td>\n",
       "      <td>0.20%</td>\n",
       "      <td>3.9%</td>\n",
       "      <td>13%</td>\n",
       "      <td>$885,771,191</td>\n",
       "      <td>$1,891,718,276</td>\n",
       "    </tr>\n",
       "  </tbody>\n",
       "</table>\n",
       "</div>"
      ],
      "text/plain": [
       "    #          貨幣    代號           匯率    1小時    24小時      7天          24小時交易量  \\\n",
       "0   1         比特幣   BTC   $10,370.59  0.95%  -0.26%   0.83%  $21,302,466,441   \n",
       "1   2         以太幣   ETH      $216.45  0.55%   -1.2%   -4.7%   $7,166,914,050   \n",
       "2   3         瑞波幣   XRP    $0.321191  0.68%  -0.98%    4.8%   $1,387,725,382   \n",
       "3   4         萊特幣   LTC       $94.03  0.82%   -3.4%    5.1%   $2,918,341,736   \n",
       "4   5        比特現金   BCH      $310.45  0.82%  -0.87%     10%   $1,501,388,201   \n",
       "5   6         幣安幣   BNB       $30.76   1.8%    3.8%    8.2%     $359,869,796   \n",
       "6   7         柚子幣   EOS        $4.09   1.1%   -3.3%  -0.38%   $2,339,119,688   \n",
       "7   8         泰達幣  USDT        $1.00  0.12%  0.050%  -0.14%  $37,331,266,515   \n",
       "8   9  Bitcoin SV   BSV      $167.43  0.22%  -0.13%     30%     $642,851,937   \n",
       "9  10          波場   TRX  $0.02861212  0.20%    3.9%     13%     $885,771,191   \n",
       "\n",
       "                總市值  \n",
       "0  $184,938,805,601  \n",
       "1   $23,158,586,614  \n",
       "2   $13,765,482,662  \n",
       "3    $5,900,307,153  \n",
       "4    $5,561,251,822  \n",
       "5    $4,274,493,476  \n",
       "6    $4,159,823,355  \n",
       "7    $3,565,735,570  \n",
       "8    $2,998,499,253  \n",
       "9    $1,891,718,276  "
      ]
     },
     "execution_count": 4,
     "metadata": {},
     "output_type": "execute_result"
    }
   ],
   "source": [
    "# 將tag <tr>的資料出\n",
    "trs = table.tbody.find_all(\"tr\")\n",
    "df = []\n",
    "columnName = ['#','貨幣','代號', '匯率','1小時','24小時','7天','24小時交易量','總市值']\n",
    "# 以form迴圈將資料逐筆取出\n",
    "for tr in trs:\n",
    "    tds = tr.find_all(\"td\")\n",
    "    tmp = []\n",
    "    for idx in range(10):\n",
    "        if (idx == 2):\n",
    "            tmp.append(tds[idx].find_all(\"span\")[1].string)\n",
    "            tmp.append(tds[idx].find_all(\"span\")[2].string)  \n",
    "        elif (idx != 0 and idx != 8):\n",
    "            tmp.append(tds[idx].span.string)     \n",
    "    df.append(tmp)    \n",
    "# 將資料轉為DataFrame，秀出前10筆\n",
    "df = pd.DataFrame(df, columns = columnName)\n",
    "print(\"總筆數:\", len(df))\n",
    "df.head(10)    # 顯示前10筆"
   ]
  },
  {
   "cell_type": "code",
   "execution_count": 9,
   "metadata": {},
   "outputs": [],
   "source": [
    "df_10 = df.head(10)\n",
    "coin = df_10['代號']\n",
    "rate = df_10['匯率']\n",
    "rate = [float(r.replace(\"$\", \"\").replace(\",\",\"\")) for r in rate]"
   ]
  },
  {
   "cell_type": "code",
   "execution_count": 13,
   "metadata": {},
   "outputs": [],
   "source": [
    "import matplotlib as mpl\n",
    "import matplotlib.pyplot as plt"
   ]
  },
  {
   "cell_type": "code",
   "execution_count": 14,
   "metadata": {},
   "outputs": [],
   "source": [
    "mpl.rcParams[\"font.sans-serif\"] = [\"Microsoft JhengHei\"]\n",
    "mpl.rcParams[\"axes.unicode_minus\"] = False"
   ]
  },
  {
   "cell_type": "code",
   "execution_count": 19,
   "metadata": {},
   "outputs": [
    {
     "data": {
      "image/png": "[encoded data removed]",
      "text/plain": [
       "<Figure size 432x288 with 1 Axes>"
      ]
     },
     "metadata": {},
     "output_type": "display_data"
    }
   ],
   "source": [
    "# plot\n",
    "colors = [\"blue\", \"gold\", \"darkgreen\", \"sienna\", \"red\", \"m\", \"violet\", \"blueviolet\", \"cyan\", \"cyan\"]\n",
    "\n",
    "plt.bar(coin, rate, align=\"center\", color=colors, tick_label=coin, alpha=0.6)\n",
    "\n",
    "plt.xlabel(\"虛擬貨幣種類\")\n",
    "plt.ylabel(\"虛擬貨幣匯率(USD)\")\n",
    "\n",
    "plt.grid(True, axis=\"y\", ls=\":\", color=\"r\", alpha=0.3)\n",
    "\n",
    "plt.show()"
   ]
  },
  {
   "cell_type": "code",
   "execution_count": null,
   "metadata": {},
   "outputs": [],
   "source": []
  }
 ],
 "metadata": {
  "kernelspec": {
   "display_name": "Python 3",
   "language": "python",
   "name": "python3"
  },
  "language_info": {
   "codemirror_mode": {
    "name": "ipython",
    "version": 3
   },
   "file_extension": ".py",
   "mimetype": "text/x-python",
   "name": "python",
   "nbconvert_exporter": "python",
   "pygments_lexer": "ipython3",
   "version": "3.6.5"
  }
 },
 "nbformat": 4,
 "nbformat_minor": 2
}
