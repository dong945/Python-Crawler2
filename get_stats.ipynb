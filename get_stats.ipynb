{
 "cells": [
  {
   "cell_type": "code",
   "execution_count": 1,
   "metadata": {},
   "outputs": [
    {
     "name": "stdout",
     "output_type": "stream",
     "text": [
      "Bitcoin Trade Volume: 29526.6\n",
      "\n",
      "Bitcoin mined: 175000000000\n",
      "\n",
      "Bitcoin market price: 10220.75\n",
      "\n"
     ]
    }
   ],
   "source": [
    "# import blockchain library\n",
    "from blockchain import statistics\n",
    "\n",
    "# get the stats object\n",
    "stats = statistics.get()\n",
    "\n",
    "# get and print Bitcoin trade volumne\n",
    "print(\"Bitcoin Trade Volume: %s\\n\" % stats.trade_volume_btc)\n",
    "\n",
    "# get and print Bitcoin mined\n",
    "print(\"Bitcoin mined: %s\\n\" % stats.btc_mined)\n",
    "\n",
    "# get and print Bitcoin market price in usd\n",
    "print(\"Bitcoin market price: %s\\n\" % stats.market_price_usd)"
   ]
  },
  {
   "cell_type": "code",
   "execution_count": null,
   "metadata": {},
   "outputs": [],
   "source": []
  }
 ],
 "metadata": {
  "kernelspec": {
   "display_name": "Python 3",
   "language": "python",
   "name": "python3"
  },
  "language_info": {
   "codemirror_mode": {
    "name": "ipython",
    "version": 3
   },
   "file_extension": ".py",
   "mimetype": "text/x-python",
   "name": "python",
   "nbconvert_exporter": "python",
   "pygments_lexer": "ipython3",
   "version": "3.6.8"
  }
 },
 "nbformat": 4,
 "nbformat_minor": 2
}
