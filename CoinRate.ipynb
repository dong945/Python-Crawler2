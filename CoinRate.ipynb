{
 "cells": [
  {
   "cell_type": "markdown",
   "metadata": {},
   "source": [
    "# 寫一個function"
   ]
  },
  {
   "cell_type": "code",
   "execution_count": 2,
   "metadata": {},
   "outputs": [],
   "source": [
    "import requests\n",
    "import pandas as pd\n",
    "# Function\n",
    "def getCoin(url):\n",
    "    url_headers = {\"user-agent\": \"Mozilla/5.0 (Windows NT 10.0; Win64; x64) AppleWebKit/537.36 (KHTML, like Gecko) Chrome/72.0.3626.119 Safari/537.36\"}\n",
    "    data = requests.get(url, headers = url_headers)\n",
    "    print(\"status_code:\", data.status_code)\n",
    "    if(data.status_code != 200):        \n",
    "        return pd.DataFrame({\"datetime\":\"\",\"price\":\"\",\"value\":\"\"})\n",
    "    # data.state_code=200, 資料為json格式    \n",
    "    prices = data.json()['stats']\n",
    "    volumes = data.json()['total_volumes']\n",
    "    # 轉成dataframe\n",
    "    df = pd.DataFrame(prices)\n",
    "    dfV = pd.DataFrame(volumes)\n",
    "    # 合併\n",
    "    df['volume'] = dfV[1]  # 成交量\n",
    "    df.columns = ['datetime','price', 'volume']  # 給column name\n",
    "    # 將datetime欄位轉成日期格式, 資料取樣為天\n",
    "    df['datetime'] = pd.to_datetime(df['datetime'], unit='ms')\n",
    "    # 轉成時間序列\n",
    "    df.index = df['datetime']\n",
    "    # 回傳DataFrame\n",
    "    return df\n",
    "\n",
    "def MovingAverage(df, colPrice, ma):\n",
    "    colMA = \"ma\" + str(ma)\n",
    "    df[colMA] = df[colPrice].rolling(window = ma).mean()\n",
    "    return df\n",
    "\n",
    "def BBands(df, colPrice):\n",
    "    %pylab inline\n",
    "    df['ma20'] = df[colPrice].rolling(window = 20).mean()\n",
    "    df['std20'] = df[colPrice].rolling(window = 20).std()\n",
    "    df['BB+'] = df['ma20'] + df[colPrice].rolling(window = 20).std()*2\n",
    "    df['BB-'] = df['ma20'] - df[colPrice].rolling(window = 20).std()*2\n",
    "    df[[colPrice,'ma20','BB+', 'BB-']].plot(kind = 'line', figsize=[20, 10])\n",
    "    return df\n",
    "\n",
    "def Visualize(df, columns):\n",
    "    %pylab inline\n",
    "    df[columns].plot(kind = 'line', figsize=[20, 5])\n",
    "    \n",
    "def getFinancilDataSet(url):\n",
    "    df = getCoin(url)\n",
    "    df.columns = ['date','close', 'volume']\n",
    "    Open = [df['close'][0]]\n",
    "    Open.extend(df['close'][0:-1])\n",
    "    Close = list(df['close'])\n",
    "    High = [max(o, c) for o, c in zip(Open, Close)]\n",
    "    Low = [min(o, c) for o, c in zip(Open, Close)]\n",
    "    df['open'] = Open\n",
    "    df['high'] = High\n",
    "    df['low'] = Low\n",
    "    cols = ['date','open','high','low','close','volume']\n",
    "    df = df[cols]\n",
    "    df.tail(5)\n",
    "    return df"
   ]
  },
  {
   "cell_type": "code",
   "execution_count": null,
   "metadata": {},
   "outputs": [],
   "source": []
  }
 ],
 "metadata": {
  "kernelspec": {
   "display_name": "Python 3",
   "language": "python",
   "name": "python3"
  },
  "language_info": {
   "codemirror_mode": {
    "name": "ipython",
    "version": 3
   },
   "file_extension": ".py",
   "mimetype": "text/x-python",
   "name": "python",
   "nbconvert_exporter": "python",
   "pygments_lexer": "ipython3",
   "version": "3.6.5"
  }
 },
 "nbformat": 4,
 "nbformat_minor": 2
}
