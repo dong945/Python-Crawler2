{
 "cells": [
  {
   "cell_type": "code",
   "execution_count": 1,
   "metadata": {},
   "outputs": [],
   "source": [
    "#coding=utf-8\n",
    "from itertools import count\n",
    "from hashlib import md5\n",
    "from datetime import datetime "
   ]
  },
  {
   "cell_type": "code",
   "execution_count": 2,
   "metadata": {},
   "outputs": [],
   "source": [
    "def POW(msg, difficulty):\n",
    "    sTime = datetime.now()\n",
    "    for i in count():\n",
    "        hashid = md5((msg+str(i)).encode(\"utf-8\")).hexdigest()\n",
    "        if hashid.startswith(difficulty):\n",
    "            eTime = datetime.now()\n",
    "            sec = (eTime - sTime).seconds\n",
    "            print ('Nonce: '+str(i))\n",
    "            print ('Hash(msg+Nonce): '+ hashid)\n",
    "            print ('Seconds: '+str(sec))\n",
    "            break"
   ]
  },
  {
   "cell_type": "code",
   "execution_count": 3,
   "metadata": {},
   "outputs": [
    {
     "name": "stdout",
     "output_type": "stream",
     "text": [
      "Nonce: 39496\n",
      "Hash(msg+Nonce): 00001c48020e444f58a297a0785df5cf\n",
      "Seconds: 0\n"
     ]
    }
   ],
   "source": [
    "msg = 'randomstring'\n",
    "difficulty = '0000'\n",
    "POW(msg, difficulty)"
   ]
  },
  {
   "cell_type": "code",
   "execution_count": 4,
   "metadata": {},
   "outputs": [
    {
     "name": "stdout",
     "output_type": "stream",
     "text": [
      "Nonce: 959844\n",
      "Hash(msg+Nonce): 00000479554343ca38866814f0b36af7\n",
      "Seconds: 1\n"
     ]
    }
   ],
   "source": [
    "msg = 'randomstring'\n",
    "difficulty = '00000'\n",
    "POW(msg, difficulty)"
   ]
  },
  {
   "cell_type": "code",
   "execution_count": 5,
   "metadata": {},
   "outputs": [
    {
     "name": "stdout",
     "output_type": "stream",
     "text": [
      "searching for hash starting with '00' in hex\n",
      "Nonce: 118\n",
      "Hash(Nonce): 00cc2e9f7a37a0fdf0fc99d8fa0c7ce8f7cae298854c8581886c66dc1776fd00\n",
      "Seconds: 0.0\n",
      "\n"
     ]
    }
   ],
   "source": [
    "import hashlib\n",
    "import time\n",
    "\n",
    "#selecting hashing algorithm\n",
    "hash256 = hashlib.sha256()\n",
    "\n",
    "\n",
    "#searching for hash starting with '00' in hex\n",
    "time_current = time.time()\n",
    "nonce=0\n",
    "print(\"searching for hash starting with '00' in hex\")\n",
    "while True:\n",
    "   hash256.update(str(nonce).encode())\n",
    "   hashed_bytes = hash256.digest()\n",
    "   \n",
    "   if (hashed_bytes[0] == 0):\n",
    "        time_end = time.time()\n",
    "        time_diff = time_end - time_current\n",
    "        print ('Nonce: '+str(nonce))\n",
    "        print ('Hash(Nonce): '+hash256.hexdigest())\n",
    "        print ('Seconds: '+str(time_diff))\n",
    "        print ()\n",
    "        break\n",
    "    \n",
    "   nonce+=1\n"
   ]
  },
  {
   "cell_type": "code",
   "execution_count": 6,
   "metadata": {},
   "outputs": [
    {
     "name": "stdout",
     "output_type": "stream",
     "text": [
      "searching for hash starting with '0000' in hex\n",
      "Nonce: 145875\n",
      "Hash(Nonce): 000003b0c79c3faff75237486788d0f6cc53c8d0f2a285fefcd6431cff8bbe35\n",
      "Seconds: 0.1428539752960205\n",
      "\n"
     ]
    }
   ],
   "source": [
    "#searching for hash starting with '0000' in hex\n",
    "time_current = time.time()\n",
    "nonce=0\n",
    "print(\"searching for hash starting with '0000' in hex\")\n",
    "while True:\n",
    "   hash256.update(str(nonce).encode())\n",
    "   hashed_bytes = hash256.digest()\n",
    "   \n",
    "   if (hashed_bytes[0] == 0) & (hashed_bytes[1] == 0):\n",
    "        time_end = time.time()\n",
    "        time_diff = time_end - time_current\n",
    "        print ('Nonce: '+str(nonce))\n",
    "        print ('Hash(Nonce): '+hash256.hexdigest())\n",
    "        print ('Seconds: '+str(time_diff))\n",
    "        print ()\n",
    "        break\n",
    "    \n",
    "   nonce+=1\n"
   ]
  },
  {
   "cell_type": "code",
   "execution_count": 7,
   "metadata": {},
   "outputs": [
    {
     "name": "stdout",
     "output_type": "stream",
     "text": [
      "searching for hash starting with '000000' in hex\n",
      "Nonce: 12007876\n",
      "Hash(Nonce): 000000f022498f1e990efb8ec4d730c5ce4248097489beace7ec0accb1ae656c\n",
      "Seconds: 14.118164777755737\n",
      "\n"
     ]
    }
   ],
   "source": [
    "#searching for hash starting with '000000' in hex\n",
    "time_current = time.time()\n",
    "nonce=0\n",
    "print(\"searching for hash starting with '000000' in hex\")\n",
    "while True:\n",
    "   hash256.update(str(nonce).encode())\n",
    "   hashed_bytes = hash256.digest()\n",
    "   \n",
    "   if (hashed_bytes[0] == 0) & (hashed_bytes[1] == 0) & (hashed_bytes[2] == 0):\n",
    "        time_end = time.time()\n",
    "        time_diff = time_end - time_current\n",
    "        print ('Nonce: '+str(nonce))\n",
    "        print ('Hash(Nonce): '+hash256.hexdigest())\n",
    "        print ('Seconds: '+str(time_diff))\n",
    "        print ()\n",
    "        break\n",
    "    \n",
    "   nonce+=1\n"
   ]
  },
  {
   "cell_type": "code",
   "execution_count": 8,
   "metadata": {},
   "outputs": [
    {
     "name": "stdout",
     "output_type": "stream",
     "text": [
      "searching for hash starting with '00000000' in hex\n"
     ]
    },
    {
     "ename": "KeyboardInterrupt",
     "evalue": "",
     "output_type": "error",
     "traceback": [
      "\u001b[1;31m---------------------------------------------------------------------------\u001b[0m",
      "\u001b[1;31mKeyboardInterrupt\u001b[0m                         Traceback (most recent call last)",
      "\u001b[1;32m<ipython-input-8-83c563a31065>\u001b[0m in \u001b[0;36m<module>\u001b[1;34m\u001b[0m\n\u001b[0;32m      5\u001b[0m \u001b[1;32mwhile\u001b[0m \u001b[1;32mTrue\u001b[0m\u001b[1;33m:\u001b[0m\u001b[1;33m\u001b[0m\u001b[1;33m\u001b[0m\u001b[0m\n\u001b[0;32m      6\u001b[0m    \u001b[0mhash256\u001b[0m\u001b[1;33m.\u001b[0m\u001b[0mupdate\u001b[0m\u001b[1;33m(\u001b[0m\u001b[0mstr\u001b[0m\u001b[1;33m(\u001b[0m\u001b[0mnonce\u001b[0m\u001b[1;33m)\u001b[0m\u001b[1;33m.\u001b[0m\u001b[0mencode\u001b[0m\u001b[1;33m(\u001b[0m\u001b[1;33m)\u001b[0m\u001b[1;33m)\u001b[0m\u001b[1;33m\u001b[0m\u001b[1;33m\u001b[0m\u001b[0m\n\u001b[1;32m----> 7\u001b[1;33m    \u001b[0mhashed_bytes\u001b[0m \u001b[1;33m=\u001b[0m \u001b[0mhash256\u001b[0m\u001b[1;33m.\u001b[0m\u001b[0mdigest\u001b[0m\u001b[1;33m(\u001b[0m\u001b[1;33m)\u001b[0m\u001b[1;33m\u001b[0m\u001b[1;33m\u001b[0m\u001b[0m\n\u001b[0m\u001b[0;32m      8\u001b[0m \u001b[1;33m\u001b[0m\u001b[0m\n\u001b[0;32m      9\u001b[0m    \u001b[1;32mif\u001b[0m \u001b[1;33m(\u001b[0m\u001b[0mhashed_bytes\u001b[0m\u001b[1;33m[\u001b[0m\u001b[1;36m0\u001b[0m\u001b[1;33m]\u001b[0m \u001b[1;33m==\u001b[0m \u001b[1;36m0\u001b[0m\u001b[1;33m)\u001b[0m \u001b[1;33m&\u001b[0m \u001b[1;33m(\u001b[0m\u001b[0mhashed_bytes\u001b[0m\u001b[1;33m[\u001b[0m\u001b[1;36m1\u001b[0m\u001b[1;33m]\u001b[0m \u001b[1;33m==\u001b[0m \u001b[1;36m0\u001b[0m\u001b[1;33m)\u001b[0m \u001b[1;33m&\u001b[0m \u001b[1;33m(\u001b[0m\u001b[0mhashed_bytes\u001b[0m\u001b[1;33m[\u001b[0m\u001b[1;36m2\u001b[0m\u001b[1;33m]\u001b[0m \u001b[1;33m==\u001b[0m \u001b[1;36m0\u001b[0m\u001b[1;33m)\u001b[0m \u001b[1;33m&\u001b[0m \u001b[1;33m(\u001b[0m\u001b[0mhashed_bytes\u001b[0m\u001b[1;33m[\u001b[0m\u001b[1;36m3\u001b[0m\u001b[1;33m]\u001b[0m \u001b[1;33m==\u001b[0m \u001b[1;36m0\u001b[0m\u001b[1;33m)\u001b[0m\u001b[1;33m:\u001b[0m\u001b[1;33m\u001b[0m\u001b[1;33m\u001b[0m\u001b[0m\n",
      "\u001b[1;31mKeyboardInterrupt\u001b[0m: "
     ]
    }
   ],
   "source": [
    "#searching for hash starting with '00000000' in hex\n",
    "time_current = time.time()\n",
    "nonce=0\n",
    "print(\"searching for hash starting with '00000000' in hex\")\n",
    "while True:\n",
    "   hash256.update(str(nonce).encode())\n",
    "   hashed_bytes = hash256.digest()\n",
    "   \n",
    "   if (hashed_bytes[0] == 0) & (hashed_bytes[1] == 0) & (hashed_bytes[2] == 0) & (hashed_bytes[3] == 0):\n",
    "        time_end = time.time()\n",
    "        time_diff = time_end - time_current\n",
    "        print ('Nonce: '+str(nonce))\n",
    "        print ('Hash(Nonce): '+hash256.hexdigest())\n",
    "        print ('Seconds: '+str(time_diff))\n",
    "        print ()\n",
    "        break\n",
    "    \n",
    "   nonce+=1"
   ]
  },
  {
   "cell_type": "code",
   "execution_count": null,
   "metadata": {},
   "outputs": [],
   "source": []
  }
 ],
 "metadata": {
  "kernelspec": {
   "display_name": "Python 3",
   "language": "python",
   "name": "python3"
  },
  "language_info": {
   "codemirror_mode": {
    "name": "ipython",
    "version": 3
   },
   "file_extension": ".py",
   "mimetype": "text/x-python",
   "name": "python",
   "nbconvert_exporter": "python",
   "pygments_lexer": "ipython3",
   "version": "3.6.5"
  }
 },
 "nbformat": 4,
 "nbformat_minor": 2
}
