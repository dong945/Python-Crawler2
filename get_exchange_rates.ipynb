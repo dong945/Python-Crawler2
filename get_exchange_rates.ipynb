{
 "cells": [
  {
   "cell_type": "code",
   "execution_count": 1,
   "metadata": {},
   "outputs": [
    {
     "name": "stdout",
     "output_type": "stream",
     "text": [
      "Bitcoin Prices in various currencies:\n",
      "USD 10160.25\n",
      "AUD 14448.6\n",
      "BRL 37954.63\n",
      "CAD 13237.13\n",
      "CHF 10005.57\n",
      "CLP 6906137.23\n",
      "CNY 69853.76\n",
      "DKK 67319.83\n",
      "EUR 9037.95\n",
      "GBP 8086.37\n",
      "HKD 79547.14\n",
      "INR 696331.51\n",
      "ISK 1279481.56\n",
      "JPY 1103132.44\n",
      "KRW 11980307.22\n",
      "NZD 15120.39\n",
      "PLN 38487.03\n",
      "RUB 641498.93\n",
      "SEK 95197.05\n",
      "SGD 13784.11\n",
      "THB 314005.09\n",
      "TWD 315471.61\n",
      "\n",
      "100 euros in Bitcoin: 0.01106446 \n"
     ]
    }
   ],
   "source": [
    "# import blockchain library\n",
    "from blockchain import exchangerates\n",
    "\n",
    "# get the  Bitcoin rates in various currencies\n",
    "ticker = exchangerates.get_ticker()\n",
    "\n",
    "# print the Bitcoin price for every currency\n",
    "print(\"Bitcoin Prices in various currencies:\")\n",
    "for k in ticker:\n",
    "\tprint(k, ticker[k].p15min)\n",
    "\n",
    "# Getting Bitcoin value for a particular amount and currency\n",
    "btc = exchangerates.to_btc('EUR', 100)\n",
    "print(\"\\n100 euros in Bitcoin: %s \" % btc)"
   ]
  },
  {
   "cell_type": "code",
   "execution_count": null,
   "metadata": {},
   "outputs": [],
   "source": []
  }
 ],
 "metadata": {
  "kernelspec": {
   "display_name": "Python 3",
   "language": "python",
   "name": "python3"
  },
  "language_info": {
   "codemirror_mode": {
    "name": "ipython",
    "version": 3
   },
   "file_extension": ".py",
   "mimetype": "text/x-python",
   "name": "python",
   "nbconvert_exporter": "python",
   "pygments_lexer": "ipython3",
   "version": "3.6.8"
  }
 },
 "nbformat": 4,
 "nbformat_minor": 2
}
